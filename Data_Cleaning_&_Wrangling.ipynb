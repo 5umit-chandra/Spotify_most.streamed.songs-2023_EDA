{
 "cells": [
  {
   "cell_type": "markdown",
   "id": "dbcdf78e-76ad-4033-a78d-f594cfc81b19",
   "metadata": {},
   "source": [
    "# Data Cleaning And Wrangling"
   ]
  },
  {
   "cell_type": "markdown",
   "id": "9186b8b8-7fa0-42df-86eb-76c3052758b9",
   "metadata": {},
   "source": [
    ">**Importing necessary libraries**\n",
    "\\\n",
    "*<small>Pandas for data manipulation and numpy for numerical operations</small>*"
   ]
  },
  {
   "cell_type": "code",
   "execution_count": 2,
   "id": "d07446e5-c73b-4a9b-9f2f-d99f839f3441",
   "metadata": {},
   "outputs": [],
   "source": [
    "import pandas as pd\n",
    "import numpy as np"
   ]
  },
  {
   "cell_type": "markdown",
   "id": "86337479-183c-49e1-bf1a-518ed1d90e7f",
   "metadata": {},
   "source": [
    ">**Loading Spotify dataset from the CSV file**\n",
    "\\\n",
    "*<small>Using ISO-8859-1 encoding to handle character encoding issues</small>*"
   ]
  },
  {
   "cell_type": "code",
   "execution_count": 3,
   "id": "1608efbe-f31e-4a3a-9fc6-aeeba32b8cf3",
   "metadata": {},
   "outputs": [],
   "source": [
    "file_path = \"spotify-2023.csv\"\n",
    "df = pd.read_csv(file_path, encoding='ISO-8859-1')"
   ]
  },
  {
   "cell_type": "markdown",
   "id": "b77b54e2-9899-4838-85e0-62d75e3b858a",
   "metadata": {},
   "source": [
    ">**Selecting the only columns relevant for analysis**\n",
    "\\\n",
    "*<small>Track details, release information, and key audio features</small>*"
   ]
  },
  {
   "cell_type": "code",
   "execution_count": 4,
   "id": "4d5a9a0b-bbc5-4222-814c-2e07d02183d0",
   "metadata": {},
   "outputs": [],
   "source": [
    "selected_columns = [\n",
    "    'track_name',\n",
    "    'artist(s)_name',\n",
    "    'released_year',\n",
    "    'released_month',\n",
    "    'released_day',\n",
    "    'streams',\n",
    "    'danceability_%',\n",
    "    'valence_%',\n",
    "    'energy_%',\n",
    "    'acousticness_%',\n",
    "    'liveness_%',\n",
    "    'speechiness_%'\n",
    "]\n",
    "df = df[selected_columns]"
   ]
  },
  {
   "cell_type": "markdown",
   "id": "8404dd38-b701-4eec-ac96-c70a9e89e664",
   "metadata": {},
   "source": [
    ">**Displaying a preview of the first few rows of the data for quick verification**)"
   ]
  },
  {
   "cell_type": "code",
   "execution_count": 5,
   "id": "a8097c9b-8cef-46d9-bc76-e5a6d9c20457",
   "metadata": {},
   "outputs": [
    {
     "data": {
      "text/html": [
       "<div>\n",
       "<style scoped>\n",
       "    .dataframe tbody tr th:only-of-type {\n",
       "        vertical-align: middle;\n",
       "    }\n",
       "\n",
       "    .dataframe tbody tr th {\n",
       "        vertical-align: top;\n",
       "    }\n",
       "\n",
       "    .dataframe thead th {\n",
       "        text-align: right;\n",
       "    }\n",
       "</style>\n",
       "<table border=\"1\" class=\"dataframe\">\n",
       "  <thead>\n",
       "    <tr style=\"text-align: right;\">\n",
       "      <th></th>\n",
       "      <th>track_name</th>\n",
       "      <th>artist(s)_name</th>\n",
       "      <th>released_year</th>\n",
       "      <th>released_month</th>\n",
       "      <th>released_day</th>\n",
       "      <th>streams</th>\n",
       "      <th>danceability_%</th>\n",
       "      <th>valence_%</th>\n",
       "      <th>energy_%</th>\n",
       "      <th>acousticness_%</th>\n",
       "      <th>liveness_%</th>\n",
       "      <th>speechiness_%</th>\n",
       "    </tr>\n",
       "  </thead>\n",
       "  <tbody>\n",
       "    <tr>\n",
       "      <th>0</th>\n",
       "      <td>Seven (feat. Latto) (Explicit Ver.)</td>\n",
       "      <td>Latto, Jung Kook</td>\n",
       "      <td>2023</td>\n",
       "      <td>7</td>\n",
       "      <td>14</td>\n",
       "      <td>141381703</td>\n",
       "      <td>80</td>\n",
       "      <td>89</td>\n",
       "      <td>83</td>\n",
       "      <td>31</td>\n",
       "      <td>8</td>\n",
       "      <td>4</td>\n",
       "    </tr>\n",
       "    <tr>\n",
       "      <th>1</th>\n",
       "      <td>LALA</td>\n",
       "      <td>Myke Towers</td>\n",
       "      <td>2023</td>\n",
       "      <td>3</td>\n",
       "      <td>23</td>\n",
       "      <td>133716286</td>\n",
       "      <td>71</td>\n",
       "      <td>61</td>\n",
       "      <td>74</td>\n",
       "      <td>7</td>\n",
       "      <td>10</td>\n",
       "      <td>4</td>\n",
       "    </tr>\n",
       "    <tr>\n",
       "      <th>2</th>\n",
       "      <td>vampire</td>\n",
       "      <td>Olivia Rodrigo</td>\n",
       "      <td>2023</td>\n",
       "      <td>6</td>\n",
       "      <td>30</td>\n",
       "      <td>140003974</td>\n",
       "      <td>51</td>\n",
       "      <td>32</td>\n",
       "      <td>53</td>\n",
       "      <td>17</td>\n",
       "      <td>31</td>\n",
       "      <td>6</td>\n",
       "    </tr>\n",
       "    <tr>\n",
       "      <th>3</th>\n",
       "      <td>Cruel Summer</td>\n",
       "      <td>Taylor Swift</td>\n",
       "      <td>2019</td>\n",
       "      <td>8</td>\n",
       "      <td>23</td>\n",
       "      <td>800840817</td>\n",
       "      <td>55</td>\n",
       "      <td>58</td>\n",
       "      <td>72</td>\n",
       "      <td>11</td>\n",
       "      <td>11</td>\n",
       "      <td>15</td>\n",
       "    </tr>\n",
       "    <tr>\n",
       "      <th>4</th>\n",
       "      <td>WHERE SHE GOES</td>\n",
       "      <td>Bad Bunny</td>\n",
       "      <td>2023</td>\n",
       "      <td>5</td>\n",
       "      <td>18</td>\n",
       "      <td>303236322</td>\n",
       "      <td>65</td>\n",
       "      <td>23</td>\n",
       "      <td>80</td>\n",
       "      <td>14</td>\n",
       "      <td>11</td>\n",
       "      <td>6</td>\n",
       "    </tr>\n",
       "  </tbody>\n",
       "</table>\n",
       "</div>"
      ],
      "text/plain": [
       "                            track_name    artist(s)_name  released_year  \\\n",
       "0  Seven (feat. Latto) (Explicit Ver.)  Latto, Jung Kook           2023   \n",
       "1                                 LALA       Myke Towers           2023   \n",
       "2                              vampire    Olivia Rodrigo           2023   \n",
       "3                         Cruel Summer      Taylor Swift           2019   \n",
       "4                       WHERE SHE GOES         Bad Bunny           2023   \n",
       "\n",
       "   released_month  released_day    streams  danceability_%  valence_%  \\\n",
       "0               7            14  141381703              80         89   \n",
       "1               3            23  133716286              71         61   \n",
       "2               6            30  140003974              51         32   \n",
       "3               8            23  800840817              55         58   \n",
       "4               5            18  303236322              65         23   \n",
       "\n",
       "   energy_%  acousticness_%  liveness_%  speechiness_%  \n",
       "0        83              31           8              4  \n",
       "1        74               7          10              4  \n",
       "2        53              17          31              6  \n",
       "3        72              11          11             15  \n",
       "4        80              14          11              6  "
      ]
     },
     "execution_count": 5,
     "metadata": {},
     "output_type": "execute_result"
    }
   ],
   "source": [
    "df.head()"
   ]
  },
  {
   "cell_type": "markdown",
   "id": "8c122aaf-c54f-424a-84d8-8f9a949229f6",
   "metadata": {},
   "source": [
    ">**Transforming columns to Windows-1252 UTF-8**\n",
    "\\\n",
    "*<small>Transforming to ensure consistency and compatibility (in raw dataset 1st column row 23/index 21 their is weird characters because of encoding issues)</small>*"
   ]
  },
  {
   "cell_type": "code",
   "execution_count": 5,
   "id": "fca14f29-d04d-46de-a176-cebf6ebfa7a1",
   "metadata": {},
   "outputs": [
    {
     "name": "stdout",
     "output_type": "stream",
     "text": [
      "I Can See You (Taylorï¿½ï¿½ï¿½s Version) (From The \n"
     ]
    }
   ],
   "source": [
    "print(df.loc[df.index[21],'track_name'])"
   ]
  },
  {
   "cell_type": "markdown",
   "id": "43c05168-bca0-4fb4-b531-6f04a19403c9",
   "metadata": {},
   "source": [
    ">**Selecting Columns that need encoding**"
   ]
  },
  {
   "cell_type": "code",
   "execution_count": 6,
   "id": "4393907c-2ef6-4117-b480-96faa8d5c31d",
   "metadata": {},
   "outputs": [],
   "source": [
    "encoding_columns = [\n",
    "    'track_name',\n",
    "    'artist(s)_name',\n",
    "]"
   ]
  },
  {
   "cell_type": "markdown",
   "id": "6f445f07-c0c3-489d-b26d-ea497ca3070c",
   "metadata": {},
   "source": [
    ">*<small>this also can be done by opening csv file in notepad and saving it as UTF-8 encoding</small>*"
   ]
  },
  {
   "cell_type": "code",
   "execution_count": 7,
   "id": "2f156021-dac5-4dbe-9466-a16807d3aae7",
   "metadata": {},
   "outputs": [],
   "source": [
    "for column in encoding_columns:\n",
    "     df[column] = df[column].str.encode('windows-1252', errors='ignore').str.decode('utf-8', errors='ignore')"
   ]
  },
  {
   "cell_type": "markdown",
   "id": "a9e8b22e-04ed-4db2-89c9-fef98aa82ed9",
   "metadata": {},
   "source": [
    ">**Preview of fixed encoding**"
   ]
  },
  {
   "cell_type": "code",
   "execution_count": 8,
   "id": "8450af07-6d0a-4a6c-ae45-6b4d54be346e",
   "metadata": {},
   "outputs": [
    {
     "name": "stdout",
     "output_type": "stream",
     "text": [
      "I Can See You (Taylor���s Version) (From The \n"
     ]
    }
   ],
   "source": [
    "print(df.loc[df.index[21],'track_name'])"
   ]
  },
  {
   "cell_type": "markdown",
   "id": "a49e841b-6756-4ebe-a1f7-0b7f52a04f2b",
   "metadata": {},
   "source": [
    "> **Saveing the data frame to a new CSV file** \\\n",
    "> *<small> New CSV file named \"updated-spotify-2023.csv\" without index</small>*\n"
   ]
  },
  {
   "cell_type": "code",
   "execution_count": 9,
   "id": "c92acb06-2d18-4c2d-a193-df1f90297a23",
   "metadata": {},
   "outputs": [],
   "source": [
    "output_file_path = \"updated-spotify-2023.csv\"\n",
    "df.to_csv(output_file_path, index=False, encoding='utf-8')"
   ]
  },
  {
   "cell_type": "markdown",
   "id": "f3aed24a-7821-4b65-8018-d65eed471b62",
   "metadata": {},
   "source": [
    ">**Displaying a preview of a cleaned data**"
   ]
  },
  {
   "cell_type": "code",
   "execution_count": 10,
   "id": "e6f01172-767f-4dc7-897b-dcbbf37d464e",
   "metadata": {},
   "outputs": [
    {
     "data": {
      "text/html": [
       "<div>\n",
       "<style scoped>\n",
       "    .dataframe tbody tr th:only-of-type {\n",
       "        vertical-align: middle;\n",
       "    }\n",
       "\n",
       "    .dataframe tbody tr th {\n",
       "        vertical-align: top;\n",
       "    }\n",
       "\n",
       "    .dataframe thead th {\n",
       "        text-align: right;\n",
       "    }\n",
       "</style>\n",
       "<table border=\"1\" class=\"dataframe\">\n",
       "  <thead>\n",
       "    <tr style=\"text-align: right;\">\n",
       "      <th></th>\n",
       "      <th>track_name</th>\n",
       "      <th>artist(s)_name</th>\n",
       "      <th>released_year</th>\n",
       "      <th>released_month</th>\n",
       "      <th>released_day</th>\n",
       "      <th>streams</th>\n",
       "      <th>danceability_%</th>\n",
       "      <th>valence_%</th>\n",
       "      <th>energy_%</th>\n",
       "      <th>acousticness_%</th>\n",
       "      <th>liveness_%</th>\n",
       "      <th>speechiness_%</th>\n",
       "    </tr>\n",
       "  </thead>\n",
       "  <tbody>\n",
       "    <tr>\n",
       "      <th>0</th>\n",
       "      <td>Seven (feat. Latto) (Explicit Ver.)</td>\n",
       "      <td>Latto, Jung Kook</td>\n",
       "      <td>2023</td>\n",
       "      <td>7</td>\n",
       "      <td>14</td>\n",
       "      <td>141381703</td>\n",
       "      <td>80</td>\n",
       "      <td>89</td>\n",
       "      <td>83</td>\n",
       "      <td>31</td>\n",
       "      <td>8</td>\n",
       "      <td>4</td>\n",
       "    </tr>\n",
       "    <tr>\n",
       "      <th>1</th>\n",
       "      <td>LALA</td>\n",
       "      <td>Myke Towers</td>\n",
       "      <td>2023</td>\n",
       "      <td>3</td>\n",
       "      <td>23</td>\n",
       "      <td>133716286</td>\n",
       "      <td>71</td>\n",
       "      <td>61</td>\n",
       "      <td>74</td>\n",
       "      <td>7</td>\n",
       "      <td>10</td>\n",
       "      <td>4</td>\n",
       "    </tr>\n",
       "    <tr>\n",
       "      <th>2</th>\n",
       "      <td>vampire</td>\n",
       "      <td>Olivia Rodrigo</td>\n",
       "      <td>2023</td>\n",
       "      <td>6</td>\n",
       "      <td>30</td>\n",
       "      <td>140003974</td>\n",
       "      <td>51</td>\n",
       "      <td>32</td>\n",
       "      <td>53</td>\n",
       "      <td>17</td>\n",
       "      <td>31</td>\n",
       "      <td>6</td>\n",
       "    </tr>\n",
       "    <tr>\n",
       "      <th>3</th>\n",
       "      <td>Cruel Summer</td>\n",
       "      <td>Taylor Swift</td>\n",
       "      <td>2019</td>\n",
       "      <td>8</td>\n",
       "      <td>23</td>\n",
       "      <td>800840817</td>\n",
       "      <td>55</td>\n",
       "      <td>58</td>\n",
       "      <td>72</td>\n",
       "      <td>11</td>\n",
       "      <td>11</td>\n",
       "      <td>15</td>\n",
       "    </tr>\n",
       "    <tr>\n",
       "      <th>4</th>\n",
       "      <td>WHERE SHE GOES</td>\n",
       "      <td>Bad Bunny</td>\n",
       "      <td>2023</td>\n",
       "      <td>5</td>\n",
       "      <td>18</td>\n",
       "      <td>303236322</td>\n",
       "      <td>65</td>\n",
       "      <td>23</td>\n",
       "      <td>80</td>\n",
       "      <td>14</td>\n",
       "      <td>11</td>\n",
       "      <td>6</td>\n",
       "    </tr>\n",
       "  </tbody>\n",
       "</table>\n",
       "</div>"
      ],
      "text/plain": [
       "                            track_name    artist(s)_name  released_year  \\\n",
       "0  Seven (feat. Latto) (Explicit Ver.)  Latto, Jung Kook           2023   \n",
       "1                                 LALA       Myke Towers           2023   \n",
       "2                              vampire    Olivia Rodrigo           2023   \n",
       "3                         Cruel Summer      Taylor Swift           2019   \n",
       "4                       WHERE SHE GOES         Bad Bunny           2023   \n",
       "\n",
       "   released_month  released_day    streams  danceability_%  valence_%  \\\n",
       "0               7            14  141381703              80         89   \n",
       "1               3            23  133716286              71         61   \n",
       "2               6            30  140003974              51         32   \n",
       "3               8            23  800840817              55         58   \n",
       "4               5            18  303236322              65         23   \n",
       "\n",
       "   energy_%  acousticness_%  liveness_%  speechiness_%  \n",
       "0        83              31           8              4  \n",
       "1        74               7          10              4  \n",
       "2        53              17          31              6  \n",
       "3        72              11          11             15  \n",
       "4        80              14          11              6  "
      ]
     },
     "execution_count": 10,
     "metadata": {},
     "output_type": "execute_result"
    }
   ],
   "source": [
    "df.head()"
   ]
  },
  {
   "cell_type": "markdown",
   "id": "bf96a1c6-66fd-45e7-97ba-61fe6e7ceb92",
   "metadata": {},
   "source": [
    "># **Special character encoding issues can be fixed by opening csv file in notepad and saving it as UTF-8 encoding**"
   ]
  },
  {
   "cell_type": "code",
   "execution_count": null,
   "id": "666a4eec-678d-44aa-a119-34d1051bbfa0",
   "metadata": {},
   "outputs": [],
   "source": []
  }
 ],
 "metadata": {
  "kernelspec": {
   "display_name": "Python 3 (ipykernel)",
   "language": "python",
   "name": "python3"
  },
  "language_info": {
   "codemirror_mode": {
    "name": "ipython",
    "version": 3
   },
   "file_extension": ".py",
   "mimetype": "text/x-python",
   "name": "python",
   "nbconvert_exporter": "python",
   "pygments_lexer": "ipython3",
   "version": "3.11.5"
  }
 },
 "nbformat": 4,
 "nbformat_minor": 5
}
